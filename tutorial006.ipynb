{
 "cells": [
  {
   "cell_type": "markdown",
   "id": "ebe72e68",
   "metadata": {},
   "source": [
    "## Reading and writing data files"
   ]
  },
  {
   "cell_type": "markdown",
   "id": "dc55aeee",
   "metadata": {},
   "source": [
    "### Learning goals\n",
    "\n",
    "* read data files from disk\n",
    "* practice importing python libraries \n",
    "* practice exploring data \n",
    "* understand calls to functions and variables assignments"
   ]
  },
  {
   "cell_type": "markdown",
   "id": "5fc18069",
   "metadata": {},
   "source": [
    "In this tutorial, we will practice with reading data files from disk. \n",
    "\n",
    "Reading files from disk is more generally known as file `i/o` where `i` and `o` stand for `i`nput and `o` utput, respectively.  Why do we need to do file `i/o`?\n",
    "\n",
    "##### File input\n",
    "\n",
    "The input case is more obvious. To analyze data, you need data to analyze. Unless you know magic, you access data from  *data files*, which are files just like a PDF documents, JPG images, or whatever, but they are specialized to some degree for containing data. Whether from a colleague, a boss, a webpage, or a government data repository, data will come in a data file that you will need to read as input in order visualize and analyze the data.\n",
    "\n",
    "##### File output\n",
    "\n",
    "The output case is perhaps less obvious. You read data into your Jupyter Notebook. The data are stored into Python variables. There are many different types of variables. We will learn about the fundamental ones. The variables can be used inside the Jupyter Notebook to make pretty graphs, and to do some cool analysis. But what if you want to share the numerical values, the results, of the analysis with someone else? In that case, you can write those values to a data file, save the file and send that to your colleagues.  They can then read in the values on their end without having to wade through your notebook and cutting and pasting or whatever.  "
   ]
  },
  {
   "cell_type": "markdown",
   "id": "4b9ae325",
   "metadata": {},
   "source": [
    "### Let's get started!"
   ]
  },
  {
   "cell_type": "markdown",
   "id": "388be684",
   "metadata": {},
   "source": [
    "#### Import libraries\n",
    "\n",
    "As experienced in Tutorial 0001, python require importing the *Libraries* needed for the work. \n",
    "\n",
    "Python *Libraries* are organized collections of Python code (files) written to perform related tasks. You will hear of \"Libraries\", \"Packages\", and \"Modules\". Technically, Libraries contain Packages which contain modules. Modules are single files that contain useful functions. Packages are directories containing files to a set of modules (or other packages), and Libraries are directories to a set of packages. That having been said, we will tend to refer to them interchagebly as \"*useful chunks of pre-written code we can use!*\"\n",
    "\n",
    "Importing migth seem a bit tricky at the beginning as beginners do not know what libraries contains or do. So, all this at the beginning can appear a bit confusing, but later on as your experience will grow during the semester the role of each library in your work will become more clear, simpler.\n",
    "\n",
    "This tutorial will cover the three fundamental libraries for data science in Python:\n",
    "\n",
    "* [pandas](https://pandas.pydata.org/) for reading, plotting and storing advanced data orbjects. Heareafter, we will using to read data saved in a file on your computer's hard drive. The operarions to read and write files from disk are generally referred to as  `i/o` (i.e., `i`nput/`o`utput file operations) \n",
    "* [matplotlib](https://matplotlib.org/) used to make simple plots \n",
    "* [seaborn](https://seaborn.pydata.org/) to plot more complex datasets"
   ]
  },
  {
   "cell_type": "markdown",
   "id": "414abb94",
   "metadata": {},
   "source": [
    "##### How to run code in Jupyter\n",
    "\n",
    "*Remember, how we run code in Jupyter. There are two types of cells in this Jupyter Notebooks, text and code cellls. Text cells are in Markdown, code cells are python code. \n",
    "\n",
    "Each code cell like the ones below, can be select and then hit we can hit **shift-return** (or shift-enter)*."
   ]
  },
  {
   "cell_type": "markdown",
   "id": "93150c95",
   "metadata": {},
   "source": [
    "#### Import `pandas`\n",
    "\n",
    "The first libray we import is called `pandas`. We import it using the shortname `pd`. Python programmers import libraries using nicknames. This helps making the code sorter when a library is used. For example, to use a command  `read_csv()` available in `pandas` we would need to use the following line of code `pandas.read_csv()`, using the nickname `pd` the code shortens to `pd.read_csv()`. Nicknames are standardized in python, each libray is generally called with a specific nickname. Ok, let's import `pandas`:"
   ]
  },
  {
   "cell_type": "code",
   "execution_count": 1,
   "id": "8e332af5",
   "metadata": {},
   "outputs": [],
   "source": [
    "import pandas as pd"
   ]
  },
  {
   "cell_type": "markdown",
   "id": "b3dc157a",
   "metadata": {},
   "source": [
    "#### Import `seaborn`\n",
    "\n",
    "After importing `pandas` we will import another library called `seaborn`. `seaborn` is one of the most used libraries for data visualization. We will import it as `sns`, the commonly used shortcut:"
   ]
  },
  {
   "cell_type": "code",
   "execution_count": 2,
   "id": "86bef4fc",
   "metadata": {},
   "outputs": [],
   "source": [
    "import seaborn as sns"
   ]
  },
  {
   "cell_type": "markdown",
   "id": "bb39f566",
   "metadata": {},
   "source": [
    "#### Import `matplotlib`'s `pyplot`\n",
    "\n",
    "After `seaborn`, we import anohter major library, commonly used in data science applications: `pyplot`. Note that `pyplot` is part of the larger library called `matplotlib`. So, here we are importing a sub-module, a smaller library part of a larger library. The syntax goes as follows:"
   ]
  },
  {
   "cell_type": "code",
   "execution_count": 3,
   "id": "0855ede6",
   "metadata": {},
   "outputs": [],
   "source": [
    "import matplotlib.pyplot as plt"
   ]
  },
  {
   "cell_type": "markdown",
   "id": "d8229e3a",
   "metadata": {},
   "source": [
    "Now you should have these three libraries available to you via their standard nicknames: `pd`, `plt`, and `sns`.\n",
    "\n",
    "If 'sns' seems like a weird nickname for 'seaborn', I'll give you hint about it: It's an homage to one of the main characters in one of the best television series ever made. The show ran from 1999 until 2006 on NBC."
   ]
  },
  {
   "cell_type": "markdown",
   "id": "a2b6909e",
   "metadata": {},
   "source": [
    "### Data preparation\n",
    "\n",
    "For this tutorial, we are going to read a data file called `006DataFile.csv`. The data was given to you and you are asked to save it inside a folder called `datasets`. The folder should be contained inside the same folder containing this Jupyter Notebook. Ideally, both `datasets` folder and Jupyter Notebook should be saved inside a GitHub repo."
   ]
  },
  {
   "cell_type": "markdown",
   "id": "0245e81d",
   "metadata": {},
   "source": [
    "### Let's read some data!"
   ]
  },
  {
   "cell_type": "markdown",
   "id": "a361a941",
   "metadata": {},
   "source": [
    "There are many ways that data can be stored, from excel files to tables on webpages."
   ]
  },
  {
   "cell_type": "markdown",
   "id": "f8ccd14c",
   "metadata": {},
   "source": [
    "We read a file with exstension `.csv` (more on this file type in a bit) using the `pandas.read_csv()` function. But, remember, we have imported pandas as `pd`, so we read the `.csv` file, with slightly less typing, like this:"
   ]
  },
  {
   "cell_type": "code",
   "execution_count": 4,
   "id": "e8df1330",
   "metadata": {},
   "outputs": [],
   "source": [
    "myDataFromFile = pd.read_csv(\"Datasets/006DataFile.csv\")"
   ]
  },
  {
   "cell_type": "markdown",
   "id": "2c0ea01f",
   "metadata": {},
   "source": [
    "This command will work \"out of the box\" if your copy of the data file is in your \"*datasets*\" directory, which should be a subdirectory of the one this notebook is in. \n",
    "\n",
    "Otherwise, you would have to change the command above to specify the path to the data file – where on the file tree the data file exists (either in '*absolute*' terms from root, or in '*relative*' terms from you current directory)."
   ]
  },
  {
   "cell_type": "markdown",
   "id": "38f66b66",
   "metadata": {},
   "source": [
    "$\\color{blue}{\\text{Answer the following questions:}}$\n",
    "\n",
    "In the line of code above, what is the:\n",
    "\n",
    " - name of the library used to load the file?  [panda]\n",
    " - name of the `pandas` function we use to read the data file?  [pd.read_cvs(\"Datasets/006DataFile.cvs\"]\n",
    " - data file name?  [006DataFile.cvs]\n",
    " - name of the variable used to store the file?  [Enter answer here]\n",
    " - name of the folder containing the data file?  [Datasets"
   ]
  },
  {
   "cell_type": "markdown",
   "id": "67ce2b39",
   "metadata": {},
   "source": [
    "### Let's look at what we just read."
   ]
  },
  {
   "cell_type": "markdown",
   "id": "406389b1",
   "metadata": {},
   "source": [
    "Okay, now let's look at the file. We can take a quick peek by using the `display()` function:"
   ]
  },
  {
   "cell_type": "code",
   "execution_count": 5,
   "id": "8f189247",
   "metadata": {},
   "outputs": [
    {
     "data": {
      "text/html": [
       "<div>\n",
       "<style scoped>\n",
       "    .dataframe tbody tr th:only-of-type {\n",
       "        vertical-align: middle;\n",
       "    }\n",
       "\n",
       "    .dataframe tbody tr th {\n",
       "        vertical-align: top;\n",
       "    }\n",
       "\n",
       "    .dataframe thead th {\n",
       "        text-align: right;\n",
       "    }\n",
       "</style>\n",
       "<table border=\"1\" class=\"dataframe\">\n",
       "  <thead>\n",
       "    <tr style=\"text-align: right;\">\n",
       "      <th></th>\n",
       "      <th>VarA</th>\n",
       "      <th>VarB</th>\n",
       "    </tr>\n",
       "  </thead>\n",
       "  <tbody>\n",
       "    <tr>\n",
       "      <th>0</th>\n",
       "      <td>0.979109</td>\n",
       "      <td>-0.128890</td>\n",
       "    </tr>\n",
       "    <tr>\n",
       "      <th>1</th>\n",
       "      <td>0.196564</td>\n",
       "      <td>0.403177</td>\n",
       "    </tr>\n",
       "    <tr>\n",
       "      <th>2</th>\n",
       "      <td>0.260841</td>\n",
       "      <td>0.682448</td>\n",
       "    </tr>\n",
       "    <tr>\n",
       "      <th>3</th>\n",
       "      <td>2.432641</td>\n",
       "      <td>-0.295968</td>\n",
       "    </tr>\n",
       "    <tr>\n",
       "      <th>4</th>\n",
       "      <td>-0.689790</td>\n",
       "      <td>-0.088941</td>\n",
       "    </tr>\n",
       "    <tr>\n",
       "      <th>...</th>\n",
       "      <td>...</td>\n",
       "      <td>...</td>\n",
       "    </tr>\n",
       "    <tr>\n",
       "      <th>95</th>\n",
       "      <td>2.416932</td>\n",
       "      <td>-1.065406</td>\n",
       "    </tr>\n",
       "    <tr>\n",
       "      <th>96</th>\n",
       "      <td>4.166266</td>\n",
       "      <td>-1.053911</td>\n",
       "    </tr>\n",
       "    <tr>\n",
       "      <th>97</th>\n",
       "      <td>-0.203719</td>\n",
       "      <td>0.610032</td>\n",
       "    </tr>\n",
       "    <tr>\n",
       "      <th>98</th>\n",
       "      <td>1.232813</td>\n",
       "      <td>-0.744738</td>\n",
       "    </tr>\n",
       "    <tr>\n",
       "      <th>99</th>\n",
       "      <td>0.833993</td>\n",
       "      <td>-0.372451</td>\n",
       "    </tr>\n",
       "  </tbody>\n",
       "</table>\n",
       "<p>100 rows × 2 columns</p>\n",
       "</div>"
      ],
      "text/plain": [
       "        VarA      VarB\n",
       "0   0.979109 -0.128890\n",
       "1   0.196564  0.403177\n",
       "2   0.260841  0.682448\n",
       "3   2.432641 -0.295968\n",
       "4  -0.689790 -0.088941\n",
       "..       ...       ...\n",
       "95  2.416932 -1.065406\n",
       "96  4.166266 -1.053911\n",
       "97 -0.203719  0.610032\n",
       "98  1.232813 -0.744738\n",
       "99  0.833993 -0.372451\n",
       "\n",
       "[100 rows x 2 columns]"
      ]
     },
     "metadata": {},
     "output_type": "display_data"
    }
   ],
   "source": [
    "display(myDataFromFile)"
   ]
  },
  {
   "cell_type": "markdown",
   "id": "119ee1fc",
   "metadata": {},
   "source": [
    "Here, we can see that this file (like almost all data files) consists of rows and columns. The rows represent *observations* and the columns represent *variables*. This type of data file contains \"tidy\" data (if you have used R, you may have encountered the tidyverse). Sometimes, we will encounter data files that violate this \"rows = observations, columns = variables\" rule – untidy data – we will deal with this issue later in the class."
   ]
  },
  {
   "cell_type": "markdown",
   "id": "131ca4cb",
   "metadata": {},
   "source": [
    "A very common genertic data file type is the comma separated values file, or .csv file. This is the type of data file we just loaded (006DataFile***.csv***). As the name implies, a file in this format consists values separated by commas to form rows, and \"carriage returns\" (CR) or \"line feeds\" (LF) marking the end of each row."
   ]
  },
  {
   "cell_type": "markdown",
   "id": "3f4c4f71",
   "metadata": {},
   "source": [
    "$\\color{blue}{\\text{Answer the following question:}}$\n",
    "\n",
    " - What are the dimensions (the size) of the data?  [100 x 2]"
   ]
  },
  {
   "cell_type": "markdown",
   "id": "f3010f34",
   "metadata": {},
   "source": [
    "---\n",
    "**Useless Trivia Alert!**:\n",
    "\n",
    "These terms come from typewritters and old-old-old-school printers, respectively. Typewritters had a \"carriage\" that held the paper and moved to the left while you typed. When you got to the right edge of the paper, you hit the \"*carriage return*\" key and the whole carriage flew back (*returned*) to right with a loud clunk and advanced the paper down a line. To this day, the big fat important key on the right side of most keyboards still says \"return\".\n",
    "\n",
    "Old-school printers used long continuous \"fan fold\" sheets of paper (they could be literally hundreds of feet long) and had to be told to advance the paper one line with a \"*line feed*\" command. Once you were done printing, you ripped/cut your paper off the printer sort of like you do with aluminum foil or plastic wrap!\n",
    "\n",
    "---"
   ]
  },
  {
   "cell_type": "markdown",
   "id": "1dc35edc",
   "metadata": {},
   "source": [
    "**Useful aside!:**\n",
    "`pandas` has very convenient functionality. For example, we can even copy data to the clipboard and read that in. \n",
    "\n",
    "Go to Wikipedia and copy the table of the [population of Burkina Faso by year](https://en.wikipedia.org/wiki/Demographics_of_Burkina_Faso). \n",
    "\n",
    "After that, you can read the data from Wikipedia Table into a data table (technically a `pandas` data frame) like this:"
   ]
  },
  {
   "cell_type": "code",
   "execution_count": 6,
   "id": "26df8b15",
   "metadata": {},
   "outputs": [],
   "source": [
    "cb = pd.read_clipboard()"
   ]
  },
  {
   "cell_type": "code",
   "execution_count": 7,
   "id": "ce1bb610",
   "metadata": {},
   "outputs": [
    {
     "data": {
      "text/html": [
       "<div>\n",
       "<style scoped>\n",
       "    .dataframe tbody tr th:only-of-type {\n",
       "        vertical-align: middle;\n",
       "    }\n",
       "\n",
       "    .dataframe tbody tr th {\n",
       "        vertical-align: top;\n",
       "    }\n",
       "\n",
       "    .dataframe thead th {\n",
       "        text-align: right;\n",
       "    }\n",
       "</style>\n",
       "<table border=\"1\" class=\"dataframe\">\n",
       "  <thead>\n",
       "    <tr style=\"text-align: right;\">\n",
       "      <th></th>\n",
       "      <th>datasets</th>\n",
       "      <th>%</th>\n",
       "      <th>cp</th>\n",
       "      <th>-v</th>\n",
       "      <th>006DataFile.csv</th>\n",
       "      <th>../../PythonTutorials</th>\n",
       "    </tr>\n",
       "  </thead>\n",
       "  <tbody>\n",
       "  </tbody>\n",
       "</table>\n",
       "</div>"
      ],
      "text/plain": [
       "Empty DataFrame\n",
       "Columns: [datasets, %, cp, -v, 006DataFile.csv, ../../PythonTutorials]\n",
       "Index: []"
      ]
     },
     "execution_count": 7,
     "metadata": {},
     "output_type": "execute_result"
    }
   ],
   "source": [
    "cb"
   ]
  },
  {
   "cell_type": "markdown",
   "id": "aa0f17e0",
   "metadata": {},
   "source": [
    "How cool is that?!?!"
   ]
  },
  {
   "cell_type": "markdown",
   "id": "d0bdaac5",
   "metadata": {},
   "source": [
    "$\\color{blue}{\\text{Answer the following questions:}}$\n",
    "\n",
    " - What are the names of the columns of the data copied from Wikipedia? [Population aged 0-14, Population aged 15-64, Pupulation aged 65+]\n",
    " - What is the name of the variable I used to save the data in Python? [cb]"
   ]
  },
  {
   "cell_type": "markdown",
   "id": "eb468367",
   "metadata": {},
   "source": [
    "---"
   ]
  },
  {
   "cell_type": "markdown",
   "id": "9ab10f4c",
   "metadata": {},
   "source": [
    "Okay, now back to the show. In addition to `display()`, we use can use data frame \"methods\". \n",
    "\n",
    "What is a \"method\"? Methods are things that an object, like our loaded datasets (technically a `pandas` data frame), can do. They are actions that an object can perform for you without any additional coding on your part!\n",
    "\n",
    "Methods are invoked using the following syntax `ObjectName.MethodName`."
   ]
  },
  {
   "cell_type": "markdown",
   "id": "2821087d",
   "metadata": {},
   "source": [
    "One thing a data frame knows how to do is show you its first few rows with the `head()` method. This method returns the top (leading, or head of a data table):"
   ]
  },
  {
   "cell_type": "code",
   "execution_count": 8,
   "id": "fa9b0eac",
   "metadata": {},
   "outputs": [
    {
     "data": {
      "text/html": [
       "<div>\n",
       "<style scoped>\n",
       "    .dataframe tbody tr th:only-of-type {\n",
       "        vertical-align: middle;\n",
       "    }\n",
       "\n",
       "    .dataframe tbody tr th {\n",
       "        vertical-align: top;\n",
       "    }\n",
       "\n",
       "    .dataframe thead th {\n",
       "        text-align: right;\n",
       "    }\n",
       "</style>\n",
       "<table border=\"1\" class=\"dataframe\">\n",
       "  <thead>\n",
       "    <tr style=\"text-align: right;\">\n",
       "      <th></th>\n",
       "      <th>VarA</th>\n",
       "      <th>VarB</th>\n",
       "    </tr>\n",
       "  </thead>\n",
       "  <tbody>\n",
       "    <tr>\n",
       "      <th>0</th>\n",
       "      <td>0.979109</td>\n",
       "      <td>-0.128890</td>\n",
       "    </tr>\n",
       "    <tr>\n",
       "      <th>1</th>\n",
       "      <td>0.196564</td>\n",
       "      <td>0.403177</td>\n",
       "    </tr>\n",
       "    <tr>\n",
       "      <th>2</th>\n",
       "      <td>0.260841</td>\n",
       "      <td>0.682448</td>\n",
       "    </tr>\n",
       "    <tr>\n",
       "      <th>3</th>\n",
       "      <td>2.432641</td>\n",
       "      <td>-0.295968</td>\n",
       "    </tr>\n",
       "    <tr>\n",
       "      <th>4</th>\n",
       "      <td>-0.689790</td>\n",
       "      <td>-0.088941</td>\n",
       "    </tr>\n",
       "  </tbody>\n",
       "</table>\n",
       "</div>"
      ],
      "text/plain": [
       "       VarA      VarB\n",
       "0  0.979109 -0.128890\n",
       "1  0.196564  0.403177\n",
       "2  0.260841  0.682448\n",
       "3  2.432641 -0.295968\n",
       "4 -0.689790 -0.088941"
      ]
     },
     "execution_count": 8,
     "metadata": {},
     "output_type": "execute_result"
    }
   ],
   "source": [
    "myDataFromFile.head()"
   ]
  },
  {
   "cell_type": "markdown",
   "id": "0c04123f",
   "metadata": {},
   "source": [
    "Another method is `tail()`. This second method shows the last rows of the table:"
   ]
  },
  {
   "cell_type": "code",
   "execution_count": 9,
   "id": "1dbf860e",
   "metadata": {},
   "outputs": [
    {
     "data": {
      "text/html": [
       "<div>\n",
       "<style scoped>\n",
       "    .dataframe tbody tr th:only-of-type {\n",
       "        vertical-align: middle;\n",
       "    }\n",
       "\n",
       "    .dataframe tbody tr th {\n",
       "        vertical-align: top;\n",
       "    }\n",
       "\n",
       "    .dataframe thead th {\n",
       "        text-align: right;\n",
       "    }\n",
       "</style>\n",
       "<table border=\"1\" class=\"dataframe\">\n",
       "  <thead>\n",
       "    <tr style=\"text-align: right;\">\n",
       "      <th></th>\n",
       "      <th>VarA</th>\n",
       "      <th>VarB</th>\n",
       "    </tr>\n",
       "  </thead>\n",
       "  <tbody>\n",
       "    <tr>\n",
       "      <th>95</th>\n",
       "      <td>2.416932</td>\n",
       "      <td>-1.065406</td>\n",
       "    </tr>\n",
       "    <tr>\n",
       "      <th>96</th>\n",
       "      <td>4.166266</td>\n",
       "      <td>-1.053911</td>\n",
       "    </tr>\n",
       "    <tr>\n",
       "      <th>97</th>\n",
       "      <td>-0.203719</td>\n",
       "      <td>0.610032</td>\n",
       "    </tr>\n",
       "    <tr>\n",
       "      <th>98</th>\n",
       "      <td>1.232813</td>\n",
       "      <td>-0.744738</td>\n",
       "    </tr>\n",
       "    <tr>\n",
       "      <th>99</th>\n",
       "      <td>0.833993</td>\n",
       "      <td>-0.372451</td>\n",
       "    </tr>\n",
       "  </tbody>\n",
       "</table>\n",
       "</div>"
      ],
      "text/plain": [
       "        VarA      VarB\n",
       "95  2.416932 -1.065406\n",
       "96  4.166266 -1.053911\n",
       "97 -0.203719  0.610032\n",
       "98  1.232813 -0.744738\n",
       "99  0.833993 -0.372451"
      ]
     },
     "execution_count": 9,
     "metadata": {},
     "output_type": "execute_result"
    }
   ],
   "source": [
    "myDataFromFile.tail()"
   ]
  },
  {
   "cell_type": "markdown",
   "id": "9816a140",
   "metadata": {},
   "source": [
    "But how do you know what methods a given object has? Python's `dir()` function will give you a directory of any objects methods:"
   ]
  },
  {
   "cell_type": "code",
   "execution_count": 11,
   "id": "806a1791",
   "metadata": {},
   "outputs": [
    {
     "data": {
      "text/plain": [
       "['T',\n",
       " 'VarA',\n",
       " 'VarB',\n",
       " '_AXIS_LEN',\n",
       " '_AXIS_ORDERS',\n",
       " '_AXIS_TO_AXIS_NUMBER',\n",
       " '_HANDLED_TYPES',\n",
       " '__abs__',\n",
       " '__add__',\n",
       " '__and__',\n",
       " '__annotations__',\n",
       " '__array__',\n",
       " '__array_priority__',\n",
       " '__array_ufunc__',\n",
       " '__array_wrap__',\n",
       " '__bool__',\n",
       " '__class__',\n",
       " '__contains__',\n",
       " '__copy__',\n",
       " '__deepcopy__',\n",
       " '__delattr__',\n",
       " '__delitem__',\n",
       " '__dict__',\n",
       " '__dir__',\n",
       " '__divmod__',\n",
       " '__doc__',\n",
       " '__eq__',\n",
       " '__finalize__',\n",
       " '__floordiv__',\n",
       " '__format__',\n",
       " '__ge__',\n",
       " '__getattr__',\n",
       " '__getattribute__',\n",
       " '__getitem__',\n",
       " '__getstate__',\n",
       " '__gt__',\n",
       " '__hash__',\n",
       " '__iadd__',\n",
       " '__iand__',\n",
       " '__ifloordiv__',\n",
       " '__imod__',\n",
       " '__imul__',\n",
       " '__init__',\n",
       " '__init_subclass__',\n",
       " '__invert__',\n",
       " '__ior__',\n",
       " '__ipow__',\n",
       " '__isub__',\n",
       " '__iter__',\n",
       " '__itruediv__',\n",
       " '__ixor__',\n",
       " '__le__',\n",
       " '__len__',\n",
       " '__lt__',\n",
       " '__matmul__',\n",
       " '__mod__',\n",
       " '__module__',\n",
       " '__mul__',\n",
       " '__ne__',\n",
       " '__neg__',\n",
       " '__new__',\n",
       " '__nonzero__',\n",
       " '__or__',\n",
       " '__pos__',\n",
       " '__pow__',\n",
       " '__radd__',\n",
       " '__rand__',\n",
       " '__rdivmod__',\n",
       " '__reduce__',\n",
       " '__reduce_ex__',\n",
       " '__repr__',\n",
       " '__rfloordiv__',\n",
       " '__rmatmul__',\n",
       " '__rmod__',\n",
       " '__rmul__',\n",
       " '__ror__',\n",
       " '__round__',\n",
       " '__rpow__',\n",
       " '__rsub__',\n",
       " '__rtruediv__',\n",
       " '__rxor__',\n",
       " '__setattr__',\n",
       " '__setitem__',\n",
       " '__setstate__',\n",
       " '__sizeof__',\n",
       " '__str__',\n",
       " '__sub__',\n",
       " '__subclasshook__',\n",
       " '__truediv__',\n",
       " '__weakref__',\n",
       " '__xor__',\n",
       " '_accessors',\n",
       " '_accum_func',\n",
       " '_add_numeric_operations',\n",
       " '_agg_by_level',\n",
       " '_agg_examples_doc',\n",
       " '_agg_summary_and_see_also_doc',\n",
       " '_align_frame',\n",
       " '_align_series',\n",
       " '_append',\n",
       " '_arith_method',\n",
       " '_as_manager',\n",
       " '_attrs',\n",
       " '_box_col_values',\n",
       " '_can_fast_transpose',\n",
       " '_check_inplace_and_allows_duplicate_labels',\n",
       " '_check_inplace_setting',\n",
       " '_check_is_chained_assignment_possible',\n",
       " '_check_label_or_level_ambiguity',\n",
       " '_check_setitem_copy',\n",
       " '_clear_item_cache',\n",
       " '_clip_with_one_bound',\n",
       " '_clip_with_scalar',\n",
       " '_cmp_method',\n",
       " '_combine_frame',\n",
       " '_consolidate',\n",
       " '_consolidate_inplace',\n",
       " '_construct_axes_dict',\n",
       " '_construct_axes_from_arguments',\n",
       " '_construct_result',\n",
       " '_constructor',\n",
       " '_constructor_sliced',\n",
       " '_convert',\n",
       " '_count_level',\n",
       " '_data',\n",
       " '_dir_additions',\n",
       " '_dir_deletions',\n",
       " '_dispatch_frame_op',\n",
       " '_drop_axis',\n",
       " '_drop_labels_or_levels',\n",
       " '_ensure_valid_index',\n",
       " '_find_valid_index',\n",
       " '_flags',\n",
       " '_from_arrays',\n",
       " '_from_mgr',\n",
       " '_get_agg_axis',\n",
       " '_get_axis',\n",
       " '_get_axis_name',\n",
       " '_get_axis_number',\n",
       " '_get_axis_resolvers',\n",
       " '_get_block_manager_axis',\n",
       " '_get_bool_data',\n",
       " '_get_cleaned_column_resolvers',\n",
       " '_get_column_array',\n",
       " '_get_index_resolvers',\n",
       " '_get_item_cache',\n",
       " '_get_label_or_level_values',\n",
       " '_get_numeric_data',\n",
       " '_get_value',\n",
       " '_getitem_bool_array',\n",
       " '_getitem_multilevel',\n",
       " '_gotitem',\n",
       " '_hidden_attrs',\n",
       " '_indexed_same',\n",
       " '_info_axis',\n",
       " '_info_axis_name',\n",
       " '_info_axis_number',\n",
       " '_info_repr',\n",
       " '_init_mgr',\n",
       " '_inplace_method',\n",
       " '_internal_names',\n",
       " '_internal_names_set',\n",
       " '_is_copy',\n",
       " '_is_homogeneous_type',\n",
       " '_is_label_or_level_reference',\n",
       " '_is_label_reference',\n",
       " '_is_level_reference',\n",
       " '_is_mixed_type',\n",
       " '_is_view',\n",
       " '_iset_item',\n",
       " '_iset_item_mgr',\n",
       " '_iset_not_inplace',\n",
       " '_item_cache',\n",
       " '_iter_column_arrays',\n",
       " '_ixs',\n",
       " '_join_compat',\n",
       " '_logical_func',\n",
       " '_logical_method',\n",
       " '_maybe_cache_changed',\n",
       " '_maybe_update_cacher',\n",
       " '_metadata',\n",
       " '_mgr',\n",
       " '_min_count_stat_function',\n",
       " '_needs_reindex_multi',\n",
       " '_protect_consolidate',\n",
       " '_reduce',\n",
       " '_reduce_axis1',\n",
       " '_reindex_axes',\n",
       " '_reindex_columns',\n",
       " '_reindex_index',\n",
       " '_reindex_multi',\n",
       " '_reindex_with_indexers',\n",
       " '_rename',\n",
       " '_replace_columnwise',\n",
       " '_repr_data_resource_',\n",
       " '_repr_fits_horizontal_',\n",
       " '_repr_fits_vertical_',\n",
       " '_repr_html_',\n",
       " '_repr_latex_',\n",
       " '_reset_cache',\n",
       " '_reset_cacher',\n",
       " '_sanitize_column',\n",
       " '_series',\n",
       " '_set_axis',\n",
       " '_set_axis_name',\n",
       " '_set_axis_nocheck',\n",
       " '_set_is_copy',\n",
       " '_set_item',\n",
       " '_set_item_frame_value',\n",
       " '_set_item_mgr',\n",
       " '_set_value',\n",
       " '_setitem_array',\n",
       " '_setitem_frame',\n",
       " '_setitem_slice',\n",
       " '_slice',\n",
       " '_stat_axis',\n",
       " '_stat_axis_name',\n",
       " '_stat_axis_number',\n",
       " '_stat_function',\n",
       " '_stat_function_ddof',\n",
       " '_take_with_is_copy',\n",
       " '_to_dict_of_blocks',\n",
       " '_typ',\n",
       " '_update_inplace',\n",
       " '_validate_dtype',\n",
       " '_values',\n",
       " '_where',\n",
       " 'abs',\n",
       " 'add',\n",
       " 'add_prefix',\n",
       " 'add_suffix',\n",
       " 'agg',\n",
       " 'aggregate',\n",
       " 'align',\n",
       " 'all',\n",
       " 'any',\n",
       " 'append',\n",
       " 'apply',\n",
       " 'applymap',\n",
       " 'asfreq',\n",
       " 'asof',\n",
       " 'assign',\n",
       " 'astype',\n",
       " 'at',\n",
       " 'at_time',\n",
       " 'attrs',\n",
       " 'axes',\n",
       " 'backfill',\n",
       " 'between_time',\n",
       " 'bfill',\n",
       " 'bool',\n",
       " 'boxplot',\n",
       " 'clip',\n",
       " 'columns',\n",
       " 'combine',\n",
       " 'combine_first',\n",
       " 'compare',\n",
       " 'convert_dtypes',\n",
       " 'copy',\n",
       " 'corr',\n",
       " 'corrwith',\n",
       " 'count',\n",
       " 'cov',\n",
       " 'cummax',\n",
       " 'cummin',\n",
       " 'cumprod',\n",
       " 'cumsum',\n",
       " 'describe',\n",
       " 'diff',\n",
       " 'div',\n",
       " 'divide',\n",
       " 'dot',\n",
       " 'drop',\n",
       " 'drop_duplicates',\n",
       " 'droplevel',\n",
       " 'dropna',\n",
       " 'dtypes',\n",
       " 'duplicated',\n",
       " 'empty',\n",
       " 'eq',\n",
       " 'equals',\n",
       " 'eval',\n",
       " 'ewm',\n",
       " 'expanding',\n",
       " 'explode',\n",
       " 'ffill',\n",
       " 'fillna',\n",
       " 'filter',\n",
       " 'first',\n",
       " 'first_valid_index',\n",
       " 'flags',\n",
       " 'floordiv',\n",
       " 'from_dict',\n",
       " 'from_records',\n",
       " 'ge',\n",
       " 'get',\n",
       " 'groupby',\n",
       " 'gt',\n",
       " 'head',\n",
       " 'hist',\n",
       " 'iat',\n",
       " 'idxmax',\n",
       " 'idxmin',\n",
       " 'iloc',\n",
       " 'index',\n",
       " 'infer_objects',\n",
       " 'info',\n",
       " 'insert',\n",
       " 'interpolate',\n",
       " 'isin',\n",
       " 'isna',\n",
       " 'isnull',\n",
       " 'items',\n",
       " 'iteritems',\n",
       " 'iterrows',\n",
       " 'itertuples',\n",
       " 'join',\n",
       " 'keys',\n",
       " 'kurt',\n",
       " 'kurtosis',\n",
       " 'last',\n",
       " 'last_valid_index',\n",
       " 'le',\n",
       " 'loc',\n",
       " 'lookup',\n",
       " 'lt',\n",
       " 'mad',\n",
       " 'mask',\n",
       " 'max',\n",
       " 'mean',\n",
       " 'median',\n",
       " 'melt',\n",
       " 'memory_usage',\n",
       " 'merge',\n",
       " 'min',\n",
       " 'mod',\n",
       " 'mode',\n",
       " 'mul',\n",
       " 'multiply',\n",
       " 'ndim',\n",
       " 'ne',\n",
       " 'nlargest',\n",
       " 'notna',\n",
       " 'notnull',\n",
       " 'nsmallest',\n",
       " 'nunique',\n",
       " 'pad',\n",
       " 'pct_change',\n",
       " 'pipe',\n",
       " 'pivot',\n",
       " 'pivot_table',\n",
       " 'plot',\n",
       " 'pop',\n",
       " 'pow',\n",
       " 'prod',\n",
       " 'product',\n",
       " 'quantile',\n",
       " 'query',\n",
       " 'radd',\n",
       " 'rank',\n",
       " 'rdiv',\n",
       " 'reindex',\n",
       " 'reindex_like',\n",
       " 'rename',\n",
       " 'rename_axis',\n",
       " 'reorder_levels',\n",
       " 'replace',\n",
       " 'resample',\n",
       " 'reset_index',\n",
       " 'rfloordiv',\n",
       " 'rmod',\n",
       " 'rmul',\n",
       " 'rolling',\n",
       " 'round',\n",
       " 'rpow',\n",
       " 'rsub',\n",
       " 'rtruediv',\n",
       " 'sample',\n",
       " 'select_dtypes',\n",
       " 'sem',\n",
       " 'set_axis',\n",
       " 'set_flags',\n",
       " 'set_index',\n",
       " 'shape',\n",
       " 'shift',\n",
       " 'size',\n",
       " 'skew',\n",
       " 'slice_shift',\n",
       " 'sort_index',\n",
       " 'sort_values',\n",
       " 'squeeze',\n",
       " 'stack',\n",
       " 'std',\n",
       " 'style',\n",
       " 'sub',\n",
       " 'subtract',\n",
       " 'sum',\n",
       " 'swapaxes',\n",
       " 'swaplevel',\n",
       " 'tail',\n",
       " 'take',\n",
       " 'to_clipboard',\n",
       " 'to_csv',\n",
       " 'to_dict',\n",
       " 'to_excel',\n",
       " 'to_feather',\n",
       " 'to_gbq',\n",
       " 'to_hdf',\n",
       " 'to_html',\n",
       " 'to_json',\n",
       " 'to_latex',\n",
       " 'to_markdown',\n",
       " 'to_numpy',\n",
       " 'to_parquet',\n",
       " 'to_period',\n",
       " 'to_pickle',\n",
       " 'to_records',\n",
       " 'to_sql',\n",
       " 'to_stata',\n",
       " 'to_string',\n",
       " 'to_timestamp',\n",
       " 'to_xarray',\n",
       " 'to_xml',\n",
       " 'transform',\n",
       " 'transpose',\n",
       " 'truediv',\n",
       " 'truncate',\n",
       " 'tz_convert',\n",
       " 'tz_localize',\n",
       " 'unstack',\n",
       " 'update',\n",
       " 'value_counts',\n",
       " 'values',\n",
       " 'var',\n",
       " 'where',\n",
       " 'xs']"
      ]
     },
     "execution_count": 11,
     "metadata": {},
     "output_type": "execute_result"
    }
   ],
   "source": [
    "dir(myDataFromFile)"
   ]
  },
  {
   "cell_type": "markdown",
   "id": "df88e707",
   "metadata": {},
   "source": [
    "HFS!!! Data frames know how to do a LOT! It's a bit overwhelming actually. \n",
    "\n",
    "We can ignore all the things that look like \\_\\_this\\_\\_ at the top. Scrolling the the others, the method called `describe()` looks promising. Let's see what it does!"
   ]
  },
  {
   "cell_type": "code",
   "execution_count": 12,
   "id": "cc0d7259",
   "metadata": {},
   "outputs": [
    {
     "data": {
      "text/html": [
       "<div>\n",
       "<style scoped>\n",
       "    .dataframe tbody tr th:only-of-type {\n",
       "        vertical-align: middle;\n",
       "    }\n",
       "\n",
       "    .dataframe tbody tr th {\n",
       "        vertical-align: top;\n",
       "    }\n",
       "\n",
       "    .dataframe thead th {\n",
       "        text-align: right;\n",
       "    }\n",
       "</style>\n",
       "<table border=\"1\" class=\"dataframe\">\n",
       "  <thead>\n",
       "    <tr style=\"text-align: right;\">\n",
       "      <th></th>\n",
       "      <th>VarA</th>\n",
       "      <th>VarB</th>\n",
       "    </tr>\n",
       "  </thead>\n",
       "  <tbody>\n",
       "    <tr>\n",
       "      <th>count</th>\n",
       "      <td>100.000000</td>\n",
       "      <td>100.000000</td>\n",
       "    </tr>\n",
       "    <tr>\n",
       "      <th>mean</th>\n",
       "      <td>1.195657</td>\n",
       "      <td>0.017781</td>\n",
       "    </tr>\n",
       "    <tr>\n",
       "      <th>std</th>\n",
       "      <td>1.620649</td>\n",
       "      <td>0.924191</td>\n",
       "    </tr>\n",
       "    <tr>\n",
       "      <th>min</th>\n",
       "      <td>-3.640916</td>\n",
       "      <td>-2.275922</td>\n",
       "    </tr>\n",
       "    <tr>\n",
       "      <th>25%</th>\n",
       "      <td>0.247035</td>\n",
       "      <td>-0.653144</td>\n",
       "    </tr>\n",
       "    <tr>\n",
       "      <th>50%</th>\n",
       "      <td>1.084324</td>\n",
       "      <td>0.049298</td>\n",
       "    </tr>\n",
       "    <tr>\n",
       "      <th>75%</th>\n",
       "      <td>2.338135</td>\n",
       "      <td>0.615286</td>\n",
       "    </tr>\n",
       "    <tr>\n",
       "      <th>max</th>\n",
       "      <td>5.092458</td>\n",
       "      <td>2.669149</td>\n",
       "    </tr>\n",
       "  </tbody>\n",
       "</table>\n",
       "</div>"
      ],
      "text/plain": [
       "             VarA        VarB\n",
       "count  100.000000  100.000000\n",
       "mean     1.195657    0.017781\n",
       "std      1.620649    0.924191\n",
       "min     -3.640916   -2.275922\n",
       "25%      0.247035   -0.653144\n",
       "50%      1.084324    0.049298\n",
       "75%      2.338135    0.615286\n",
       "max      5.092458    2.669149"
      ]
     },
     "execution_count": 12,
     "metadata": {},
     "output_type": "execute_result"
    }
   ],
   "source": [
    "myDataFromFile.describe()"
   ]
  },
  {
   "cell_type": "markdown",
   "id": "b63a9f0f",
   "metadata": {},
   "source": [
    "$\\color{blue}{\\text{Answer the following question:}}$\n",
    "\n",
    " - Describe in your own words what the method describe returns of the data. Describe the measures the method returns.\n",
    " \n",
    " [The describe returns some common statistical measures that describe all the data.]"
   ]
  },
  {
   "cell_type": "markdown",
   "id": "13282837",
   "metadata": {},
   "source": [
    "OMG, that was a good find!\n",
    "\n",
    "I also noticed a `hist` method. Could it even be possible that data frames know how to draw histograms of themselves?"
   ]
  },
  {
   "cell_type": "code",
   "execution_count": 13,
   "id": "14267424",
   "metadata": {},
   "outputs": [
    {
     "data": {
      "text/plain": [
       "array([[<AxesSubplot:title={'center':'VarA'}>,\n",
       "        <AxesSubplot:title={'center':'VarB'}>]], dtype=object)"
      ]
     },
     "execution_count": 13,
     "metadata": {},
     "output_type": "execute_result"
    },
    {
     "data": {
      "image/png": "[encoded data removed]",
      "text/plain": [
       "<Figure size 432x288 with 2 Axes>"
      ]
     },
     "metadata": {
      "needs_background": "light"
     },
     "output_type": "display_data"
    }
   ],
   "source": [
    "myDataFromFile.hist()"
   ]
  },
  {
   "cell_type": "markdown",
   "id": "e9b731e4",
   "metadata": {},
   "source": [
    "#### **NO WAY!!!!!**\n",
    "\n",
    "As you can see, our journey of learning to play with data is going to be part learning to code and part figuring how to use what's already out there!"
   ]
  },
  {
   "cell_type": "markdown",
   "id": "134b2879",
   "metadata": {},
   "source": [
    "$\\color{blue}{\\text{Answer the following questions:}}$\n",
    "\n",
    " - What are the titles of the two histograms in the figures created by the method `.hist`?  [VarA and VarB]\n",
    " - How do the titles of the histograms relate to the data? [They state that they are the two variables being examined]\n",
    " - What are the values in the x-axis of the histograms? [-2.5, 0.0, 2.5, 5.0 ; -2, 0, 2]"
   ]
  },
  {
   "cell_type": "markdown",
   "id": "af0152bb",
   "metadata": {},
   "source": [
    "#### More advanced plotting"
   ]
  },
  {
   "cell_type": "markdown",
   "id": "0b33b8b8",
   "metadata": {},
   "source": [
    "Okay, next we will practice making a plot using the fancy library called `seaborn`. Let's make a histogram with `seaborn`. `Seaborn` is a library that really just calls `matplotlib` functions, but it provides a way to use those functions that is easier than using them directly.\n",
    "\n",
    "It also by default generally makes prettier plots.\n",
    "\n",
    "Here's a histogram:"
   ]
  },
  {
   "cell_type": "code",
   "execution_count": 14,
   "id": "31cd1654",
   "metadata": {},
   "outputs": [
    {
     "data": {
      "text/plain": [
       "<AxesSubplot:ylabel='Count'>"
      ]
     },
     "execution_count": 14,
     "metadata": {},
     "output_type": "execute_result"
    },
    {
     "data": {
      "image/png": "[encoded data removed]",
      "text/plain": [
       "<Figure size 432x288 with 1 Axes>"
      ]
     },
     "metadata": {
      "needs_background": "light"
     },
     "output_type": "display_data"
    }
   ],
   "source": [
    "sns.histplot(myDataFromFile, multiple=\"stack\")"
   ]
  },
  {
   "cell_type": "markdown",
   "id": "63b4d508",
   "metadata": {},
   "source": [
    "The method `.hisplot` takes as inputs a data object (like `myDataFromFile`), but also it takes as input arguments. Arguments are also variables, that are passed to methods to provide additional requests. For example, above we asked for the two variables `A` and `B` to be stacked, to have the histograms plotted on top of eachother.\n",
    "\n",
    "`seaborn.histplot()` has many additional arguments. You can Google `seaborn.histplot()` to see what other possible arguments are. \n",
    "\n",
    "Alternatively, you can use python's `?` to open a new window that shows all the arguments that `.histplot()` has: "
   ]
  },
  {
   "cell_type": "code",
   "execution_count": 20,
   "id": "973c141b",
   "metadata": {},
   "outputs": [],
   "source": [
    "sns.histplot?"
   ]
  },
  {
   "cell_type": "markdown",
   "id": "0527f6f0",
   "metadata": {},
   "source": [
    "$\\color{blue}{\\text{Answer the following questions:}}$\n",
    "\n",
    " - report three arguments of `.hist`  [data = none ; x= none ; y = none]"
   ]
  },
  {
   "cell_type": "markdown",
   "id": "ae498824",
   "metadata": {},
   "source": [
    "### The Kernel Density Estimate (KDE)"
   ]
  },
  {
   "cell_type": "markdown",
   "id": "fd768b2c",
   "metadata": {},
   "source": [
    "Now let's make Kernel Density Estimate (KDE) plots of the distributions. KDEs are essentially smoothed versions of histograms (we can unpack more about exactly what these are later). They can give us a better visual represtation of the \"vibe\" of a distribution.\n",
    "\n",
    "`seaborn` has a method that automatically makes KDE plots: `.kdeplot()`.\n",
    "\n",
    "For the KDE plot, we we will plot each variable separatedly. We will also use the `color` argument in the second plot to set the curves apart:"
   ]
  },
  {
   "cell_type": "code",
   "execution_count": 17,
   "id": "bf874e9e",
   "metadata": {},
   "outputs": [
    {
     "data": {
      "text/plain": [
       "<AxesSubplot:xlabel='VarA', ylabel='Density'>"
      ]
     },
     "execution_count": 17,
     "metadata": {},
     "output_type": "execute_result"
    },
    {
     "data": {
      "image/png": "[encoded data removed]",
      "text/plain": [
       "<Figure size 432x288 with 1 Axes>"
      ]
     },
     "metadata": {
      "needs_background": "light"
     },
     "output_type": "display_data"
    }
   ],
   "source": [
    "sns.kdeplot(myDataFromFile[\"VarA\"])\n",
    "sns.kdeplot(myDataFromFile[\"VarB\"], color=\"r\")"
   ]
  },
  {
   "cell_type": "markdown",
   "id": "71b8c796",
   "metadata": {},
   "source": [
    "Here we can more clearly see the difference in means as compared to the histogram."
   ]
  },
  {
   "cell_type": "markdown",
   "id": "cd2fd696",
   "metadata": {},
   "source": [
    "We can make the visualization more aethetically appealing by using some of the optional arguments to `seaborn.kdeplot()`"
   ]
  },
  {
   "cell_type": "code",
   "execution_count": 23,
   "id": "c98599e8",
   "metadata": {},
   "outputs": [
    {
     "data": {
      "text/plain": [
       "<AxesSubplot:xlabel='VarA', ylabel='Density'>"
      ]
     },
     "execution_count": 23,
     "metadata": {},
     "output_type": "execute_result"
    },
    {
     "data": {
      "image/png": "[encoded data removed]",
      "text/plain": [
       "<Figure size 432x288 with 1 Axes>"
      ]
     },
     "metadata": {
      "needs_background": "light"
     },
     "output_type": "display_data"
    }
   ],
   "source": [
    "sns.kdeplot(myDataFromFile[\"VarA\"], color=\"b\", fill=True, alpha=0.2)\n",
    "sns.kdeplot(myDataFromFile[\"VarB\"], color=\"r\", fill=True, alpha=0.2)"
   ]
  },
  {
   "cell_type": "markdown",
   "id": "5a2727a9",
   "metadata": {},
   "source": [
    "The `color` argument is obvious. `fill` colors the area under the curve, and `alpha` make the fill transparent so you can see one curve through the other. Play around with these!"
   ]
  },
  {
   "cell_type": "markdown",
   "id": "e0057b87",
   "metadata": {},
   "source": [
    "$\\color{blue}{\\text{Answer the following questions:}}$\n",
    "\n",
    " - Make the same plot as above but increaset the transparency of the histograms to 0.35. How does it look \n",
    "    \n",
    "    [It made the red variable darker]"
   ]
  },
  {
   "cell_type": "code",
   "execution_count": 24,
   "id": "c3754bed",
   "metadata": {},
   "outputs": [
    {
     "data": {
      "text/plain": [
       "<AxesSubplot:xlabel='VarA', ylabel='Density'>"
      ]
     },
     "execution_count": 24,
     "metadata": {},
     "output_type": "execute_result"
    },
    {
     "data": {
      "image/png": "[encoded data removed]",
      "text/plain": [
       "<Figure size 432x288 with 1 Axes>"
      ]
     },
     "metadata": {
      "needs_background": "light"
     },
     "output_type": "display_data"
    }
   ],
   "source": [
    "sns.kdeplot(myDataFromFile[\"VarA\"], color=\"b\", fill=True, alpha=0.2)\n",
    "sns.kdeplot(myDataFromFile[\"VarB\"], color=\"r\", fill=True, alpha=0.35)"
   ]
  },
  {
   "cell_type": "markdown",
   "id": "27ccc1c8",
   "metadata": {},
   "source": [
    "### Let's see if we can write data to a file!"
   ]
  },
  {
   "cell_type": "markdown",
   "id": "e7d73a7c",
   "metadata": {},
   "source": [
    "Now maybe we can write a summary of the original data to a file so we could potentially share it with other. What we'll do is use the `describe()` method again, but this time we'll assign it to new data frame."
   ]
  },
  {
   "cell_type": "code",
   "execution_count": 25,
   "id": "f4013b1a",
   "metadata": {},
   "outputs": [],
   "source": [
    "mySummary = myDataFromFile.describe()"
   ]
  },
  {
   "cell_type": "markdown",
   "id": "86c01b9c",
   "metadata": {},
   "source": [
    "Let's just quickly that `mySummary` contains what we hope it does. The python command `print` will help us take a look at the summary:"
   ]
  },
  {
   "cell_type": "code",
   "execution_count": 26,
   "id": "a9143efc",
   "metadata": {},
   "outputs": [
    {
     "name": "stdout",
     "output_type": "stream",
     "text": [
      "             VarA        VarB\n",
      "count  100.000000  100.000000\n",
      "mean     1.195657    0.017781\n",
      "std      1.620649    0.924191\n",
      "min     -3.640916   -2.275922\n",
      "25%      0.247035   -0.653144\n",
      "50%      1.084324    0.049298\n",
      "75%      2.338135    0.615286\n",
      "max      5.092458    2.669149\n"
     ]
    }
   ],
   "source": [
    "print(mySummary)"
   ]
  },
  {
   "cell_type": "markdown",
   "id": "a836794b",
   "metadata": {},
   "source": [
    "See what we did above? Instead of returning the results of the method `.describe()` directly in the notebook output, we saved the output into a variable. We then used `print` to display the content of the variable."
   ]
  },
  {
   "cell_type": "markdown",
   "id": "94c5c33a",
   "metadata": {},
   "source": [
    "$\\color{blue}{\\text{Answer the following questions:}}$\n",
    "\n",
    " - What is the name of the variable we saved the output of the method `.describe()` in? [mySummary]"
   ]
  },
  {
   "cell_type": "markdown",
   "id": "e348abfc",
   "metadata": {},
   "source": [
    "Next let's write the variable to a file! Given that we are dealing with a table, we will save the variable in a `.csv` file. The variable has a method `.to_csv`, the method can be found by lurking the output of `dir(<varName>)`."
   ]
  },
  {
   "cell_type": "code",
   "execution_count": 27,
   "id": "88d13ce8",
   "metadata": {},
   "outputs": [],
   "source": [
    "mySummary.to_csv(\"mySummary.csv\")"
   ]
  },
  {
   "cell_type": "markdown",
   "id": "1ac25680",
   "metadata": {},
   "source": [
    "Okay, but how do we know that worked? Easy! We'll read that file back in using `pandas.read_csv()` and see what it looks like!"
   ]
  },
  {
   "cell_type": "code",
   "execution_count": 28,
   "id": "0dcaa0b6",
   "metadata": {},
   "outputs": [],
   "source": [
    "mySummary2 = pd.read_csv(\"mySummary.csv\")"
   ]
  },
  {
   "cell_type": "markdown",
   "id": "236a4b26",
   "metadata": {},
   "source": [
    "And then we can look at it using `display()`."
   ]
  },
  {
   "cell_type": "code",
   "execution_count": 29,
   "id": "06edca2e",
   "metadata": {},
   "outputs": [
    {
     "data": {
      "text/html": [
       "<div>\n",
       "<style scoped>\n",
       "    .dataframe tbody tr th:only-of-type {\n",
       "        vertical-align: middle;\n",
       "    }\n",
       "\n",
       "    .dataframe tbody tr th {\n",
       "        vertical-align: top;\n",
       "    }\n",
       "\n",
       "    .dataframe thead th {\n",
       "        text-align: right;\n",
       "    }\n",
       "</style>\n",
       "<table border=\"1\" class=\"dataframe\">\n",
       "  <thead>\n",
       "    <tr style=\"text-align: right;\">\n",
       "      <th></th>\n",
       "      <th>Unnamed: 0</th>\n",
       "      <th>VarA</th>\n",
       "      <th>VarB</th>\n",
       "    </tr>\n",
       "  </thead>\n",
       "  <tbody>\n",
       "    <tr>\n",
       "      <th>0</th>\n",
       "      <td>count</td>\n",
       "      <td>100.000000</td>\n",
       "      <td>100.000000</td>\n",
       "    </tr>\n",
       "    <tr>\n",
       "      <th>1</th>\n",
       "      <td>mean</td>\n",
       "      <td>1.195657</td>\n",
       "      <td>0.017781</td>\n",
       "    </tr>\n",
       "    <tr>\n",
       "      <th>2</th>\n",
       "      <td>std</td>\n",
       "      <td>1.620649</td>\n",
       "      <td>0.924191</td>\n",
       "    </tr>\n",
       "    <tr>\n",
       "      <th>3</th>\n",
       "      <td>min</td>\n",
       "      <td>-3.640916</td>\n",
       "      <td>-2.275922</td>\n",
       "    </tr>\n",
       "    <tr>\n",
       "      <th>4</th>\n",
       "      <td>25%</td>\n",
       "      <td>0.247035</td>\n",
       "      <td>-0.653144</td>\n",
       "    </tr>\n",
       "    <tr>\n",
       "      <th>5</th>\n",
       "      <td>50%</td>\n",
       "      <td>1.084324</td>\n",
       "      <td>0.049298</td>\n",
       "    </tr>\n",
       "    <tr>\n",
       "      <th>6</th>\n",
       "      <td>75%</td>\n",
       "      <td>2.338135</td>\n",
       "      <td>0.615286</td>\n",
       "    </tr>\n",
       "    <tr>\n",
       "      <th>7</th>\n",
       "      <td>max</td>\n",
       "      <td>5.092458</td>\n",
       "      <td>2.669149</td>\n",
       "    </tr>\n",
       "  </tbody>\n",
       "</table>\n",
       "</div>"
      ],
      "text/plain": [
       "  Unnamed: 0        VarA        VarB\n",
       "0      count  100.000000  100.000000\n",
       "1       mean    1.195657    0.017781\n",
       "2        std    1.620649    0.924191\n",
       "3        min   -3.640916   -2.275922\n",
       "4        25%    0.247035   -0.653144\n",
       "5        50%    1.084324    0.049298\n",
       "6        75%    2.338135    0.615286\n",
       "7        max    5.092458    2.669149"
      ]
     },
     "metadata": {},
     "output_type": "display_data"
    }
   ],
   "source": [
    "display(mySummary2)"
   ]
  },
  {
   "cell_type": "markdown",
   "id": "2173c575",
   "metadata": {},
   "source": [
    "#### Sweet! We can now read and write data files. File I/0 handled!"
   ]
  },
  {
   "cell_type": "markdown",
   "id": "24c7fd18",
   "metadata": {},
   "source": [
    "$\\color{blue}{\\text{Final Report for this Tutorial.}}$\n",
    "\n",
    " - create a new repository under your user account on [github.com/yourUserName](github.com/yourUserName).\n",
    " - clone the repository locally on your computer (pick an ideal folder to do so, say, `~/git` or `~/code`)\n",
    " - move the file of jupyter notebookd for this tutorial in the folder of the repository cloned above. This will require using a combination of commands such as `mv` and `cp` and `cd` and `ls` (you can also do this by use your mouse, but make sure you are copying inside the proper ).\n",
    " - use `git add [file name]` Add the file you edited for this tutorial to the repository\n",
    " - use `git commit -am \"Your message here\"` to commit the file to the repository\n",
    " - push the local repository with the changes and the newly added file to the cloud using `git push [repository name]`\n",
    " - Submit the URL to the github repository on Canvas\n",
    " \n",
    " Note. Now on, the above is going to be required for every tutorial. We will always ask for you to report the URL of the tutorial with all the operations performed by you and the answers to the questions visible."
   ]
  },
  {
   "cell_type": "code",
   "execution_count": null,
   "id": "086f0cb9",
   "metadata": {},
   "outputs": [],
   "source": []
  }
 ],
 "metadata": {
  "kernelspec": {
   "display_name": "Python 3 (ipykernel)",
   "language": "python",
   "name": "python3"
  },
  "language_info": {
   "codemirror_mode": {
    "name": "ipython",
    "version": 3
   },
   "file_extension": ".py",
   "mimetype": "text/x-python",
   "name": "python",
   "nbconvert_exporter": "python",
   "pygments_lexer": "ipython3",
   "version": "3.9.12"
  }
 },
 "nbformat": 4,
 "nbformat_minor": 5
}
